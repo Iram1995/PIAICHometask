{
 "cells": [
  {
   "cell_type": "markdown",
   "metadata": {},
   "source": [
    "## Iram Manzoor\n",
    "### Mega Assignment\n",
    "### HomeTask-3\n",
    "### PIAIC62538"
   ]
  },
  {
   "cell_type": "markdown",
   "metadata": {},
   "source": [
    "1. Which of the following terms are related to dictionaries?\n",
    "a. value\n",
    "b. item\n",
    "c. index\n",
    "d. key\n",
    "\n",
    "### Answer:key,value\n",
    "    \n",
    "2. Just like lists, + operator is used to extend dictionaries?\n",
    "a. True\n",
    "b. False\n",
    "\n",
    "### Answer:False(Update method is used to extend dictionares)\n",
    "3. To access items from a dictionary, we specify the index of that item within [] like myDict[0]?\n",
    "a. True\n",
    "b. False\n",
    "\n",
    "### Answer:False(We use key for accessing the value)\n",
    "\n",
    "4. When we use [] to access the value from a dictionary which does not exist in that dictionary….?\n",
    "a. Value within [] is added to the dictionary\n",
    "b. Value None is returned\n",
    "c. New dictionary is created\n",
    "d. None of above\n",
    "\n",
    "### Answer:a,b\n",
    "    \n",
    "5. What does return the pop method of a dictionary?\n",
    "a. list\n",
    "b. tuple containing the pair of last item of the dictionary\n",
    "c. dictionary\n",
    "d. value of the key, if it exists in the dictionary\n",
    "\n",
    "### Answer:d\n",
    "\n",
    "6. What does return popitem method return?\n",
    "a. dictionary\n",
    "b. tupple containing the pair of last item of the dictionary\n",
    "c. list\n",
    "d. value of key, if it exists in the dictionary\n",
    "\n",
    "### Answer:b\n",
    "\n",
    "7. Which of the following 2 methods can be used to iterate through the items of a dictionary?\n",
    "a. items()\n",
    "b. values()\n",
    "c. indexes()\n",
    "d. keys()\n",
    "\n",
    "### Answer:b,d\n",
    "\n",
    "8. Which one of the following is used to enclose a dictionary?\n",
    "a. () parenthesis\n",
    "b. {} curly brackets\n",
    "c. [] square brackets\n",
    "d. “” quotation marks\n",
    "\n",
    "### Answer:b"
   ]
  },
  {
   "cell_type": "code",
   "execution_count": 31,
   "metadata": {},
   "outputs": [
    {
     "name": "stdout",
     "output_type": "stream",
     "text": [
      "Enter the key for dictionary itemnamme\n",
      "Enter the value for dictionary itemirahd\n",
      "Key and value both does not exist in dictionary\n"
     ]
    }
   ],
   "source": [
    "# 9. Write Python Program add key-value pair in dictionary and check if a Given Key or Value or Both \n",
    "#Exists in a Dictionary or Not.\n",
    "\n",
    "---------------------------------\n",
    "d1={\"name\":\"iram\"}\n",
    "key=input(\"Enter the key for dictionary item\")\n",
    "value=input(\"Enter the value for dictionary item\")\n",
    "\n",
    "if((key in d1) and (value in d1.values())):\n",
    "        print(\"Key and values both exists\")\n",
    "elif(key in d1):\n",
    "     print(\"Key exists\")\n",
    "elif(value in d1.values()):\n",
    "     print(\"Value exists\")\n",
    "else:\n",
    "        print(\"Key and value both does not exist in dictionary\")\n",
    "\n"
   ]
  },
  {
   "cell_type": "code",
   "execution_count": null,
   "metadata": {},
   "outputs": [],
   "source": [
    "#10. Write a Python Program to Count the Frequency of Words Appearing in a String Using a\n",
    "#Dictionary and print only the words having Even (divisible by 2) frequency.\n"
   ]
  },
  {
   "cell_type": "code",
   "execution_count": 43,
   "metadata": {},
   "outputs": [
    {
     "data": {
      "text/plain": [
       "['Feb', 'Apr', 'Mar', 'May']"
      ]
     },
     "execution_count": 43,
     "metadata": {},
     "output_type": "execute_result"
    }
   ],
   "source": [
    "#11. X = [\"Feb\", Apr, Mar, May, Jun, Jul, Aug, Jan]. What will be output of following? \n",
    "X = [\"Feb\", \"Apr\", \"Mar\", \"May\", \"Jun\", \"Jul\", \"Aug\", \"Jan\"]\n",
    "X[0:3]\n",
    "#['Feb', 'Apr', 'Mar']\n",
    "X[2:8]\n",
    "#['Mar', 'May', 'Jun', 'Jul', 'Aug', 'Jan']\n",
    "X[4:9]\n",
    "#['Jun', 'Jul', 'Aug', 'Jan']\n",
    "X[1:7:2]\n",
    "#['Apr', 'May', 'Jul']\n",
    "X[-1:-7]\n",
    "#[]\n",
    "X[-7:7]\n",
    "#['Apr', 'Mar', 'May', 'Jun', 'Jul', 'Aug']\n",
    "X[-1:-8:-2]\n",
    "#['Jan', 'Jul', 'May', 'Apr']\n",
    "X[:4]\n",
    "#['Feb', 'Apr', 'Mar', 'May']"
   ]
  },
  {
   "cell_type": "markdown",
   "metadata": {},
   "source": [
    "12. Remove the correct number from the list X\n",
    "X = [ 9,2,8,4,5]\n",
    "X__?__\n",
    "print (X)\n",
    "Output: [2,8,4,5]\n",
    "1) .delete(9)\n",
    "2) .rm(9)\n",
    "3) .remove(9)\n",
    "\n",
    "---------------------------------\n",
    "Answer: 3"
   ]
  },
  {
   "cell_type": "markdown",
   "metadata": {},
   "source": [
    "13. p = 3\n",
    " q = 'hello! '\n",
    " print( q __?__ p)\n",
    " hello! hello! hello!\n",
    " 1) *\n",
    " 2) **\n",
    " 3) +\n",
    " \n",
    "---------------------------------\n",
    "Answer: 1"
   ]
  },
  {
   "cell_type": "code",
   "execution_count": null,
   "metadata": {},
   "outputs": [],
   "source": [
    "14. y = \"this is a random sentence\"\n",
    "print (y__?__)\n",
    "Output: THIS IS A RANDOM SENTENCE\n",
    "1) .upper()\n",
    "2) .upcase()\n",
    "3) .capitalize()\n",
    "\n",
    "---------------------------------\n",
    "Answer: 1"
   ]
  },
  {
   "cell_type": "code",
   "execution_count": null,
   "metadata": {},
   "outputs": [],
   "source": [
    "15. p = True\n",
    " q = ‘True’\n",
    " r = 2\n",
    " s = 2.0\n",
    "print(type(p)) #<class 'bool'>\n",
    "print(type(q)) #<class 'str'>\n",
    "print(type(r)) #<class 'int'>\n",
    "print(type(s)) #<class 'float'>"
   ]
  },
  {
   "cell_type": "code",
   "execution_count": null,
   "metadata": {},
   "outputs": [],
   "source": [
    "16. What are the optional arguments to the function?\n",
    "function_1(R1, q, p=None, R2= None)\n",
    "1) q and R2\n",
    "2) p and R2\n",
    "3) p and R1\n",
    "4) R1 and q\n",
    "\n",
    "---------------------------------\n",
    "Answer: 2"
   ]
  },
  {
   "cell_type": "code",
   "execution_count": null,
   "metadata": {},
   "outputs": [],
   "source": [
    "17. Which command invokes method X() of the object p?\n",
    "1) X(p)\n",
    "2) p$x()\n",
    "3) X().p\n",
    "4) p.x()\n"
   ]
  },
  {
   "cell_type": "code",
   "execution_count": null,
   "metadata": {},
   "outputs": [],
   "source": [
    "18. X=4 , Y= 2\n",
    "print(X % Y)  # 0\n",
    "print(X / Y)  #2.0\n",
    "print(X // Y) #2\n",
    "print(Y % X)  #2 "
   ]
  },
  {
   "cell_type": "code",
   "execution_count": null,
   "metadata": {},
   "outputs": [],
   "source": [
    "19. x = [[4, 1, 1], [5, 9, 0]]\n",
    "x = [[4, 1, 1], [5, 9, 0]]\n",
    "\n",
    "for i in x:\n",
    "    for j in i:\n",
    "        print(j)\n",
    "Output: 4\n",
    "1\n",
    "1\n",
    "5\n",
    "9\n",
    "0\n",
    "\n",
    "------------------------------\n",
    "x = [[4, 1, 1], [5, 9, 0]]\n",
    "for i in __?__:\n",
    " for j in __?__:\n",
    " ?\n",
    "Output: \n",
    "4 5\n",
    "1 9\n",
    "1 0\n",
    "\n",
    "------------------------------\n",
    "x = [[4, 1, 1], [5, 9, 0]]\n",
    "for i in x:\n",
    "    for j in i:\n",
    "        print(j,' ',end = '')\n",
    "Output: 4 1 1 5 9 0\n",
    "    \n",
    "-----------------------------\n",
    "x = [[4, 1, 1], [5, 9, 0]]\n",
    "for i in x:\n",
    "    for j in i:\n",
    "        print(j,' ',end = '')\n",
    "    print()\n",
    "Output: \n",
    "4 1 1\n",
    "5 9 0"
   ]
  },
  {
   "cell_type": "code",
   "execution_count": null,
   "metadata": {},
   "outputs": [],
   "source": [
    "20. q = [10.62, 16.14, 6.45, 17.11]\n",
    "for __?__, z in enumerate (q) :\n",
    " print( ‘Item ‘ + str( j ) + ‘ - ‘, str ( z ))\n",
    "Output: \n",
    "Item 0 – 10.62\n",
    "Item 1 – 16.14\n",
    "Item 2 – 6.45\n",
    "Item 3 – 17.11\n",
    "1) z\n",
    "2) i\n",
    "3) j\n",
    "4) x\n",
    "5) k\n",
    "6) y\n",
    "\n",
    "----------------------------\n",
    "Answer: j\n",
    "----------------------------"
   ]
  },
  {
   "cell_type": "code",
   "execution_count": null,
   "metadata": {},
   "outputs": [],
   "source": [
    "21. Which of these about a dictionary is false?\n",
    "a) The values of a dictionary can be accessed using keys\n",
    "b) The keys of a dictionary can be accessed using values\n",
    "c) Dictionaries aren’t ordered\n",
    "d) Dictionaries are mutable\n",
    "\n",
    "----------------------------\n",
    "Answer: b,d\n",
    "----------------------------"
   ]
  },
  {
   "cell_type": "code",
   "execution_count": null,
   "metadata": {},
   "outputs": [],
   "source": [
    "22. What is the output of the following:\n",
    "D = dict()\n",
    "for i in range (3):\n",
    " for j in range(2):\n",
    " D[i] = j\n",
    "a. {0: 1, 1: 1, 2: 1}\n",
    "b. {1: 0, 1: 1, 1: 2}\n",
    "c. {0: 1, 1: 2, 2: 3}\n",
    "d. {1: 2, 1: 1, 1: 0}\n",
    "\n",
    "----------------------------\n",
    "Answer:a\n",
    "----------------------------"
   ]
  },
  {
   "cell_type": "code",
   "execution_count": 115,
   "metadata": {},
   "outputs": [
    {
     "name": "stdout",
     "output_type": "stream",
     "text": [
      "{0: 1, 1: 1, 2: 1}\n"
     ]
    }
   ],
   "source": [
    "23. You are writing a function that increments player score in a soccer game\n",
    "If no value is specified for points, then point must start with 1\n",
    "If no value is specified for bonus, then bonus should be True\n",
    "01 def increment_score ( bonus , score , points ):\n",
    "To meet the first requirement line 01 must be change to\n",
    " def increment_score ( bonus , score , points = 1 ): (True or False)\n",
    "    \n",
    "------------------------------------------------------\n",
    "True\n",
    "------------------------------------------------------\n",
    "To meet the second requirement line 01 must be change to\n",
    " def increment_score ( bonus = True , score , points = 1 ): (True or False)\n",
    "    \n",
    "------------------------------------------------------\n",
    "True\n",
    "------------------------------------------------------\n",
    " Once a parameter is defined with default value, any parameter to the right must also be defined\n",
    "with default values (True or False)\n",
    "\n",
    "------------------------------------------------------\n",
    "True\n",
    "------------------------------------------------------\n"
   ]
  },
  {
   "cell_type": "code",
   "execution_count": null,
   "metadata": {},
   "outputs": [],
   "source": [
    "24. What will be output?\n",
    "def avg ( x , y , z = 50 ):\n",
    "adding = x + y + z\n",
    "avg_value = adding / 3\n",
    "return avg_value\n",
    "y = avg ( x = 5 , y = 9 , z = 20 )\n",
    "print(y)\n",
    "----------------------------\n",
    "Answer:11.3\n",
    "----------------------------"
   ]
  },
  {
   "cell_type": "code",
   "execution_count": null,
   "metadata": {},
   "outputs": [],
   "source": [
    "25. What will be output? Describe it with reason and logic behind. Do multiple experiments with\n",
    "arguments / parameters to remove error, if occurs.\n",
    "def avg ( *opt_values , name ):\n",
    "avg_value = sum (opt_values) / len(opt_values)\n",
    "print(‘name is: ’ + name + ‘Marks: ’ + str(avg_value))\n",
    "avg ( 5 , 9 , 20, 34, 87, 112 , ‘Ali’ )\n",
    "\n",
    "---------------------------------\n",
    "Correct Code:\n",
    "def avg (name,*opt_values):\n",
    "    avg_value = sum (opt_values) / len(opt_values)\n",
    "    print(\"name is: \" + name + \" Marks: \" + str(avg_value))\n",
    "avg ( \"Ali\",5 , 9 , 20, 34, 87, 112)\n",
    "---------------------------------\n",
    "Output:\n",
    "name is: Ali Marks: 44.5\n"
   ]
  },
  {
   "cell_type": "code",
   "execution_count": null,
   "metadata": {},
   "outputs": [],
   "source": [
    "26. Final output is not required. Just take copy pencil, think and write the output of each line, write\n",
    "down the link between parameters and arguments. Remove one or two ** from other_info and\n",
    "observe the ouput.\n",
    "def display_result(winner, score, **other_info):\n",
    "print(\"The winner was \" + winner)\n",
    "print(\"The score was \" + score)\n",
    "display_result(winner=“Manchester\", score=\"1-0\", overtime =\"yes\", injuries=\"none\") \n",
    "        \n",
    "---------------------------\n",
    "Output:\n",
    "The winner was Manchester\n",
    "The score was 1-0\n",
    "               "
   ]
  },
  {
   "cell_type": "code",
   "execution_count": null,
   "metadata": {},
   "outputs": [],
   "source": [
    "27. The position of parameters and arguments is re-arranged. Just think and find the logic behind\n",
    "output or error.\n",
    "def display_result(winner, **other_info, score):\n",
    "print(\"The winner was \" + winner)\n",
    "print(\"The score was \" + score)\n",
    "display_result(winner=“Manchester\", overtime =\"yes\", injuries=\"none“ , score=\"1-0“ )\n",
    "\n",
    "-------------------------------------              \n",
    "Logic:\n",
    "Correct Code:\n",
    "def display_result(winner,score, **other_info):\n",
    "    print(\"The winner was \" + winner)\n",
    "    print(\"The score was \" + score)\n",
    "display_result(winner=\"Manchester\", score=\"1-0\",overtime =\"yes\", injuries=\"none\")             \n",
    "\n",
    "display_result take 3 arguments\n",
    "winner is the first argument\n",
    "score is the 2nd argument\n",
    "other_info will create dictionary rest of all will make dictionary"
   ]
  },
  {
   "cell_type": "code",
   "execution_count": null,
   "metadata": {},
   "outputs": [],
   "source": [
    "28. What will be the output of the following Python expression if X=123?\n",
    "print(“%06d”%123)\n",
    "a) 123000\n",
    "b) 000123\n",
    "c) 000000123\n",
    "d) 123000000\n",
    "\n",
    "Output:\n",
    "000123\n"
   ]
  },
  {
   "cell_type": "code",
   "execution_count": null,
   "metadata": {},
   "outputs": [],
   "source": [
    "29. What will be the output of the following Python expression if x=22.19?\n",
    "print(\"%5.2f\"%x)\n",
    "a) 22.1900\n",
    "b) 22.00000\n",
    "c) 22.19\n",
    "d) 22.20\n",
    "\n",
    "Output:22.19\n"
   ]
  },
  {
   "cell_type": "code",
   "execution_count": null,
   "metadata": {},
   "outputs": [],
   "source": [
    "30. What will be the output of the following Python code?\n",
    "'{0:f}, {1:2f}, {2:05.2f}'.format(1.23456, 1.23456, 1.23456)\n",
    "a) Error\n",
    "b) ‘1.234560, 1.22345, 1.23’\n",
    "c) No output\n",
    "d) ‘1.234560, 1.234560, 01.23’\n",
    "\n",
    "Output:\n",
    "    d"
   ]
  },
  {
   "cell_type": "code",
   "execution_count": null,
   "metadata": {},
   "outputs": [],
   "source": [
    "31. Write down the output of each line after each iterations. Do multiple experiments to change values\n",
    "i = 1\n",
    "while False:\n",
    "if i%2 == 0:\n",
    "    break\n",
    "print(i)\n",
    "i += 2\n",
    "\n",
    "Output:\n",
    "1\n",
    "Reason:\n",
    "Initially value of i is 1 \n",
    "1%2 not equal =0\n",
    "so it will execute print statment i.e. the value of i =1 and after that it will increment the value of i"
   ]
  },
  {
   "cell_type": "code",
   "execution_count": null,
   "metadata": {},
   "outputs": [],
   "source": [
    "32. Write down the output of each line after each iterations. Do multiple experiments to change values\n",
    "x = \"abcdef\"\n",
    "i = \"a\"\n",
    "while i in x:\n",
    " x = x[:-1]\n",
    " print(i, end = \" \")\n",
    "    \n",
    "---------------------------------\n",
    "Output:\n",
    "a a a a a a \n",
    "Loop will iterate 6 times(as the length of x is 6)\n",
    "and it will print the value of a as 6 times"
   ]
  },
  {
   "cell_type": "code",
   "execution_count": null,
   "metadata": {},
   "outputs": [],
   "source": [
    "33. Write down the output of each line after each iterations. Do multiple experiments to change values\n",
    "for i in ''.join(reversed(list('abcd'))):\n",
    " print (i)\n",
    "---------------------------------\n",
    "Output:\n",
    "1st iteration :d\n",
    "2nd iteration :c\n",
    "3rd iteration :b\n",
    "4th iteration :a\n"
   ]
  },
  {
   "cell_type": "code",
   "execution_count": null,
   "metadata": {},
   "outputs": [],
   "source": [
    "34. Flow of the program. Write the output of each line after every iteration of ‘i’\n",
    "for i in range(10):\n",
    "    if i == 5:\n",
    "         break\n",
    "    else:\n",
    "         print(i)\n",
    "    else:\n",
    "         print(\"Here\")\n",
    "\n",
    "---------------------------------\n",
    "Output:\n",
    "There is an error in the code there must be 1 else with 1 if statement\n"
   ]
  },
  {
   "cell_type": "code",
   "execution_count": null,
   "metadata": {},
   "outputs": [],
   "source": [
    "35. What is the output? And understand the functionality of lambda function\n",
    "y = 6\n",
    "z = lambda x: x * y\n",
    "print z(8)\n",
    "\n",
    "---------------------------------\n",
    "Output:48\n",
    "    "
   ]
  },
  {
   "cell_type": "code",
   "execution_count": null,
   "metadata": {},
   "outputs": [],
   "source": [
    "36. Write output and give proper logic of whatever the output comes.\n",
    "i=0\n",
    "def change(i):\n",
    " i=i+1\n",
    " return i\n",
    "change(1)\n",
    "print(i)\n",
    "------------------------\n",
    "Output:\n",
    "0\n",
    "-------------------------\n",
    "Reason:\n",
    "First of all i is set as 0\n",
    "On calling change method we are passing 1 as argument\n",
    "Change method will increment value of i  by 1 so i becomes 2,and it returns value i.e 2(i value is incremented locally not in \n",
    "memory so i remains 0 as long as it is assigned outside the function)\n",
    "but calling method is not assigning updated value to i \n",
    "so i remains 0\n",
    "--------------------------\n",
    "Correct Code:\n",
    "    i=0\n",
    "def change(i):\n",
    "    i=i+1\n",
    "    return i\n",
    "i=change(1)\n",
    "print(i)\n",
    "\n",
    "36. Write output and give proper logic of whatever the output comes.\n",
    "i=0\n",
    "def change(i):\n",
    " i=i+1\n",
    " return i\n",
    "change(1)\n",
    "print(i)\n",
    "------------------------\n",
    "Output:\n",
    "0\n",
    "-------------------------\n",
    "Reason:\n",
    "First of all i is set as 0\n",
    "On calling change method we are passing 1 as argument\n",
    "Change method will increment value of i  by 1 so i becomes 2,and it returns value i.e 2(i value is incremented locally not in \n",
    "memory so i remains 0 as long as it is assigned outside the function)\n",
    "but calling method is not assigning updated value to i \n",
    "so i remains 0\n",
    "--------------------------\n",
    "Correct Code:\n",
    "    i=0\n",
    "def change(i):\n",
    "    i=i+1\n",
    "    return i\n",
    "i=change(1)\n",
    "print(i)"
   ]
  },
  {
   "cell_type": "code",
   "execution_count": null,
   "metadata": {},
   "outputs": [],
   "source": [
    "37. What will be output? Define this output clearly\n",
    "def change(one, *two):\n",
    " print(type(two))\n",
    " print(two)\n",
    "change(1,2,3,4)\n",
    "\n",
    "---------------------------------\n",
    "Output:\n",
    "<class 'tuple'>\n",
    "(2, 3, 4)\n",
    "\n",
    "---------------------------------\n",
    "Reason:\n",
    "On calling change method 1,2,3,4:\n",
    "1 is set to 1st argument of change method and rest (2,3,4) will be set to 2nd argument which is tuple\n",
    "(* represents tuple)"
   ]
  },
  {
   "cell_type": "code",
   "execution_count": null,
   "metadata": {},
   "outputs": [],
   "source": [
    "38. What will be output? Define this output clearly\n",
    "def find(a, **b):\n",
    " print(type(b))\n",
    "find('letters',A='1',B='2')\n",
    "\n",
    "---------------------------------\n",
    "Output:\n",
    "<class 'dict'>\n",
    "---------------------------------\n",
    "Reason:\n",
    "find function takes two 2 arguments 1st one is a string and other is dictionary\n",
    "On calling A,B are two keys of dictionary with values as 1,2 which will be set to b argument of find method \n",
    "(** represents dictionary)\n",
    "\n"
   ]
  },
  {
   "cell_type": "code",
   "execution_count": null,
   "metadata": {},
   "outputs": [],
   "source": [
    "39. Write output and define each line’s output for each iteration of ‘i’\n",
    "def foo(i, x=[]):\n",
    " x.append(i)\n",
    " return x\n",
    "for i in range(3):\n",
    " print(foo(i))\n",
    "\n",
    "---------------------------------\n",
    "Output:\n",
    "[0]\n",
    "[0, 1]\n",
    "[0, 1, 2]\n",
    "  \n",
    "---------------------------------\n",
    "Reason:        \n",
    "As range is 3 so loop will iterate 3 times where i will be 0 1 2\n",
    "for i=0 function will return [0]\n",
    "for i=1 function will return [0,1] because it will append 1 with the previous value i-e 0\n",
    "for i=2 function will return [0,1,2] because it will append 2 with the previous values i-e 0,1\n"
   ]
  },
  {
   "cell_type": "code",
   "execution_count": null,
   "metadata": {},
   "outputs": [],
   "source": [
    "40. Evaluate the following Python arithmetic expression: and write which segment will execute first?\n",
    "(Brackets, Exponents, Multiplication, Addition / Subtraction, Left to right rule)\n",
    "(3 * (1 + 2)** 2 - (2 ** 2) * 3)\n",
    "---------------------------------\n",
    "(3 * (1 + 2)** 2 - (4) * 3)\n",
    "(3 * 3 ** 2 - 4 * 3)\n",
    "(3 * 9 - 4 * 3)\n",
    "(27 - 4 * 3)\n",
    "(27 - 12)\n",
    "15"
   ]
  },
  {
   "cell_type": "code",
   "execution_count": null,
   "metadata": {},
   "outputs": [],
   "source": [
    "41.You are creating a function that manipulates a number. The function has the following requirements:\n",
    " A float is passed into the function\n",
    " The function must take the absolute value of the float\n",
    " Any decimal points after the integer must be removed\n",
    "A. math.fmod(x)\n",
    "B. math.frexp(x)\n",
    "C. math.floor(x)\n",
    "D. math.ceil(x)\n",
    "E. math.fabs(x)\n",
    "\n",
    "------------------------------\n",
    "Answer: c"
   ]
  },
  {
   "cell_type": "code",
   "execution_count": null,
   "metadata": {},
   "outputs": [],
   "source": [
    "42. You are writing code that generates a random integer with a minimum value of 5 and a maximum\n",
    "value of 11.\n",
    "Which two functions should you use? Each correct answer presents a complete solution. (Choose two.)\n",
    "A. random.randint(5, 12)\n",
    "B. random.randint(5, 11)\n",
    "C. random.randrange(5, 12, 1)\n",
    "D. random.randrange(5, 11, 1)\n",
    "------------------------------\n",
    "Answer: b,c"
   ]
  },
  {
   "cell_type": "code",
   "execution_count": 139,
   "metadata": {},
   "outputs": [
    {
     "name": "stdout",
     "output_type": "stream",
     "text": [
      "Enter your marks10\n",
      "E\n"
     ]
    }
   ],
   "source": [
    "#43. Write a program that receives marks from user and check the grade.\n",
    "#Marks greater than equal to 90 then A grade\n",
    "#Marks between 80 to 90, B grade\n",
    "#Marks between 70 to 80, C grade\n",
    "#Marks between 60 to 70, D grade\n",
    "#Marks less than equal to 60 then E grade\n",
    "\n",
    "---------------------------------\n",
    "marks=input(\"Enter your marks\")\n",
    "marks=int(marks)\n",
    "if(marks>90 and marks==90):\n",
    "    print(\"Grade A\")\n",
    "elif(marks>80 and marks==80):\n",
    "    print(\"Grade B\")\n",
    "elif(marks>70 and marks==70):\n",
    "     print(\"Grade C\")\n",
    "elif(marks>60):\n",
    "    print(\"Grade D\")\n",
    "else:\n",
    "    print(\"E\")\n"
   ]
  }
 ],
 "metadata": {
  "kernelspec": {
   "display_name": "Python 3",
   "language": "python",
   "name": "python3"
  },
  "language_info": {
   "codemirror_mode": {
    "name": "ipython",
    "version": 3
   },
   "file_extension": ".py",
   "mimetype": "text/x-python",
   "name": "python",
   "nbconvert_exporter": "python",
   "pygments_lexer": "ipython3",
   "version": "3.7.4"
  }
 },
 "nbformat": 4,
 "nbformat_minor": 2
}
