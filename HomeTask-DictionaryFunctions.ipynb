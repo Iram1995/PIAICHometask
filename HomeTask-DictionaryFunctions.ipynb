{
 "cells": [
  {
   "cell_type": "markdown",
   "metadata": {},
   "source": [
    "# Iram Manzoor\n",
    "## List Functions\n",
    "## HomeTask-3\n",
    "## PIAIC62538"
   ]
  },
  {
   "cell_type": "code",
   "execution_count": 3,
   "metadata": {},
   "outputs": [
    {
     "name": "stdout",
     "output_type": "stream",
     "text": [
      "Enter keyname\n",
      "Enter Valueiram\n",
      "{'name': 'iram'}\n"
     ]
    }
   ],
   "source": [
    "#Task1 Python Program to add a key-value pair to the dictionary\n",
    "d1={}\n",
    "key=input(\"Enter key\")\n",
    "value=input(\"Enter Value\")\n",
    "d1.update({key:value})\n",
    "print(d1)\n"
   ]
  },
  {
   "cell_type": "code",
   "execution_count": 1,
   "metadata": {},
   "outputs": [
    {
     "name": "stdout",
     "output_type": "stream",
     "text": [
      "{'name': 'Iram Manzoor', 'course': 'AI', 'Uni': 'IIUI'}\n"
     ]
    }
   ],
   "source": [
    "#Task2 Python Program to Concatenate Two Dictionaries Into One\n",
    "d2={'name':\"Iram Manzoor\"}\n",
    "d3={'course':\"AI\",'Uni':\"IIUI\"}\n",
    "d2.update(d3)\n",
    "print(d2)"
   ]
  },
  {
   "cell_type": "code",
   "execution_count": 7,
   "metadata": {},
   "outputs": [
    {
     "name": "stdout",
     "output_type": "stream",
     "text": [
      "Enter Keyname\n",
      "Key exists\n"
     ]
    }
   ],
   "source": [
    "#Task3 Python program to check if given key exists in a dictionary or not\n",
    "d4={'name': 'Iram Manzoor', 'course': 'AI', 'Uni': 'IIUI'}\n",
    "key=input(\"Enter Key\")\n",
    "keys=d4.keys() \n",
    "if(key in d1.keys()):\n",
    "    print(\"Key exists\")\n",
    "else:\n",
    "    print(\"Key does not exist\")"
   ]
  },
  {
   "cell_type": "code",
   "execution_count": 22,
   "metadata": {},
   "outputs": [
    {
     "name": "stdout",
     "output_type": "stream",
     "text": [
      "Enter number4\n",
      "{1: 1, 2: 4, 3: 9, 4: 16}\n"
     ]
    }
   ],
   "source": [
    "#Task4 Python Program to Generate a Dictionary that Contains Numbers (between 1 and n) in the Form (x,x*x)\n",
    "d5={}\n",
    "value=input(\"Enter number\")\n",
    "number=int(value)\n",
    "n=1;\n",
    "while (n<=number):\n",
    "    d5[n]=n*n\n",
    "    n=n+1\n",
    "\n",
    "print(d5)"
   ]
  },
  {
   "cell_type": "code",
   "execution_count": 20,
   "metadata": {},
   "outputs": [
    {
     "name": "stdout",
     "output_type": "stream",
     "text": [
      "Total sum of values in dictionary 1900\n"
     ]
    }
   ],
   "source": [
    "#Task 5 Python Program to Sum All the Items in a Dictionary\n",
    "d6={'a':100,'b':400,'c':600,'d':800}\n",
    "values_sum=0\n",
    "values_sum=sum(d6.values())\n",
    "print('Total sum of values in dictionary {}'.format(values_sum))"
   ]
  },
  {
   "cell_type": "code",
   "execution_count": 21,
   "metadata": {},
   "outputs": [
    {
     "name": "stdout",
     "output_type": "stream",
     "text": [
      "Total sum of values in dictionary 19200000000\n"
     ]
    }
   ],
   "source": [
    "#Task 6 Python Program to Multiply All the Items in a Dictionary\n",
    "d7={'a':100,'b':400,'c':600,'d':800}\n",
    "values_mul=1\n",
    "for i in d7.values():\n",
    "    values_mul=values_mul*int(i)\n",
    "print('Total sum of values in dictionary {}'.format(values_mul))"
   ]
  },
  {
   "cell_type": "code",
   "execution_count": 32,
   "metadata": {},
   "outputs": [
    {
     "name": "stdout",
     "output_type": "stream",
     "text": [
      "Enter the key you want to removei\n",
      "Key does not exist\n",
      "{'a': 100, 'b': 400, 'c': 600, 'd': 800}\n"
     ]
    }
   ],
   "source": [
    "#Task 7 Python Program to Remove the Given Key from a Dictionary\n",
    "d7={'a':100,'b':400,'c':600,'d':800}\n",
    "key=input(\"Enter the key you want to remove\")\n",
    "if (key in d7.keys()):\n",
    "    del(d7[key])\n",
    "else:\n",
    "    print(\"Key does not exist\")\n",
    "print(d7)"
   ]
  },
  {
   "cell_type": "code",
   "execution_count": 7,
   "metadata": {},
   "outputs": [
    {
     "name": "stdout",
     "output_type": "stream",
     "text": [
      "Enter number of elements for dictionary:2\n",
      "For keys:\n",
      "Enter element:3\n",
      "Enter element:4\n",
      "For values:\n",
      "Enter element:7\n",
      "Enter element:8\n",
      "Dictionary is:\n",
      "{'4': '8', '3': '7'}\n"
     ]
    }
   ],
   "source": [
    "#Task 8 Python Program to Map Two Lists into a Dictionary\n",
    "l1=[]\n",
    "l2=[]\n",
    "d8={}\n",
    "element=input(\"Enter number of elements for dictionary:\")\n",
    "value=int(element)\n",
    "print(\"For keys:\")\n",
    "for i in range(value):\n",
    "    l1Element=input(\"Enter element:\")\n",
    "    l1.append(l1Element)\n",
    "print(\"For values:\")\n",
    "for i in range(value):\n",
    "    l2Element=input(\"Enter element:\")\n",
    "    l2.append(l2Element)\n",
    "print(\"Dictionary is:\")\n",
    "for i in range(len(l1)):\n",
    "    d8[l1[i-1]]=l2[i-1]\n",
    "    \n",
    "print(d8)\n",
    "\n"
   ]
  },
  {
   "cell_type": "code",
   "execution_count": 27,
   "metadata": {},
   "outputs": [
    {
     "name": "stdout",
     "output_type": "stream",
     "text": [
      "Enter stringwelcome to new Bahria welcome to AI\n",
      "{'welcome': 2, 'to': 2, 'new': 1, 'Bahria': 1, 'AI': 1}\n"
     ]
    }
   ],
   "source": [
    "#Task 9 Python Program to Count the Frequency of Words Appearing in a String Using a Dictionary\n",
    "string=input(\"Enter string\")\n",
    "l1=[]\n",
    "stringList=[]\n",
    "frequencyList=[]\n",
    "d1={}\n",
    "splitedStrings=string.split(\" \")\n",
    "splitedString=list(dict.fromkeys(splitedStrings))\n",
    "for i in range(len(splitedString)):\n",
    "    frequency=0\n",
    "    stringList.append(splitedString[i])\n",
    "    frequencyList.append(splitedStrings.count(splitedString[i]))\n",
    "d2=dict(zip(splitedString,frequencyList))\n",
    "#for j in range(len(splitedString)):\n",
    "    #d1[splitedString[j]]=frequencyList[j]\n",
    "    \n",
    "#print(stringList)\n",
    "#print(frequencyList)\n",
    "#print(splitedString)\n",
    "#print(d1)\n",
    "print(d2)"
   ]
  },
  {
   "cell_type": "code",
   "execution_count": 35,
   "metadata": {},
   "outputs": [
    {
     "name": "stdout",
     "output_type": "stream",
     "text": [
      "Enter your string: welcome welcome to ai class\n",
      "{'w': 'welcome, welcome', 't': 'to', 'a': 'ai', 'c': 'class'}\n"
     ]
    }
   ],
   "source": [
    "#Task 10 Python Program to Create a Dictionary with Key as First Character and Value as Words Starting with that Character\n",
    "\n",
    "str=input(\"Enter your string: \")\n",
    "d={}\n",
    "str=str.split()\n",
    "for i in range(0,len(str)):\n",
    "    v=str[i]\n",
    "    if v[0] in d.keys():\n",
    "        d[v[0]]=d[v[0]] + \", \" + str[i]\n",
    "    else:\n",
    "        d[v[0]]=str[i]        \n",
    "print(d)"
   ]
  }
 ],
 "metadata": {
  "kernelspec": {
   "display_name": "Python 3",
   "language": "python",
   "name": "python3"
  },
  "language_info": {
   "codemirror_mode": {
    "name": "ipython",
    "version": 3
   },
   "file_extension": ".py",
   "mimetype": "text/x-python",
   "name": "python",
   "nbconvert_exporter": "python",
   "pygments_lexer": "ipython3",
   "version": "3.7.4"
  }
 },
 "nbformat": 4,
 "nbformat_minor": 2
}
